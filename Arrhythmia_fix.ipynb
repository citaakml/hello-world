{
  "nbformat": 4,
  "nbformat_minor": 0,
  "metadata": {
    "colab": {
      "provenance": [],
      "collapsed_sections": [],
      "authorship_tag": "ABX9TyPSB7pPxI/eva37U5ZocNQu",
      "include_colab_link": true
    },
    "kernelspec": {
      "name": "python3",
      "display_name": "Python 3"
    },
    "language_info": {
      "name": "python"
    }
  },
  "cells": [
    {
      "cell_type": "markdown",
      "metadata": {
        "id": "view-in-github",
        "colab_type": "text"
      },
      "source": [
        "<a href=\"https://colab.research.google.com/github/citaakml/hello-world/blob/main/Arrhythmia_fix.ipynb\" target=\"_parent\"><img src=\"https://colab.research.google.com/assets/colab-badge.svg\" alt=\"Open In Colab\"/></a>"
      ]
    },
    {
      "cell_type": "code",
      "execution_count": 157,
      "metadata": {
        "id": "txlo4ryUVDeJ"
      },
      "outputs": [],
      "source": [
        "import pandas as pd\n",
        "import numpy as np\n",
        "import matplotlib.pyplot as plt\n",
        "from pandas import read_csv"
      ]
    },
    {
      "cell_type": "code",
      "source": [
        "df = pd.read_csv('https://archive.ics.uci.edu/ml/machine-learning-databases/arrhythmia/arrhythmia.data')\n",
        "df.head()"
      ],
      "metadata": {
        "colab": {
          "base_uri": "https://localhost:8080/",
          "height": 299
        },
        "id": "VaIAKsl7VXPu",
        "outputId": "c48ecc6e-133e-42e0-ca08-43f35170ad9d"
      },
      "execution_count": 158,
      "outputs": [
        {
          "output_type": "execute_result",
          "data": {
            "text/plain": [
              "   75  0  190  80   91  193  371  174  121  -16  ... 0.0.38   9.0 -0.9 0.0.39  \\\n",
              "0  56  1  165  64   81  174  401  149   39   25  ...    0.0   8.5  0.0    0.0   \n",
              "1  54  0  172  95  138  163  386  185  102   96  ...    0.0   9.5 -2.4    0.0   \n",
              "2  55  0  175  94  100  202  380  179  143   28  ...    0.0  12.2 -2.2    0.0   \n",
              "3  75  0  190  80   88  181  360  177  103  -16  ...    0.0  13.1 -3.6    0.0   \n",
              "4  13  0  169  51  100  167  321  174   91  107  ...   -0.6  12.2 -2.8    0.0   \n",
              "\n",
              "  0.0.40  0.9.3  2.9.1  23.3  49.4   8  \n",
              "0    0.0    0.2    2.1  20.4  38.8   6  \n",
              "1    0.0    0.3    3.4  12.3  49.0  10  \n",
              "2    0.0    0.4    2.6  34.6  61.6   1  \n",
              "3    0.0   -0.1    3.9  25.4  62.8   7  \n",
              "4    0.0    0.9    2.2  13.5  31.1  14  \n",
              "\n",
              "[5 rows x 280 columns]"
            ],
            "text/html": [
              "\n",
              "  <div id=\"df-63ea2c89-0200-4493-851a-2b0548fb7819\">\n",
              "    <div class=\"colab-df-container\">\n",
              "      <div>\n",
              "<style scoped>\n",
              "    .dataframe tbody tr th:only-of-type {\n",
              "        vertical-align: middle;\n",
              "    }\n",
              "\n",
              "    .dataframe tbody tr th {\n",
              "        vertical-align: top;\n",
              "    }\n",
              "\n",
              "    .dataframe thead th {\n",
              "        text-align: right;\n",
              "    }\n",
              "</style>\n",
              "<table border=\"1\" class=\"dataframe\">\n",
              "  <thead>\n",
              "    <tr style=\"text-align: right;\">\n",
              "      <th></th>\n",
              "      <th>75</th>\n",
              "      <th>0</th>\n",
              "      <th>190</th>\n",
              "      <th>80</th>\n",
              "      <th>91</th>\n",
              "      <th>193</th>\n",
              "      <th>371</th>\n",
              "      <th>174</th>\n",
              "      <th>121</th>\n",
              "      <th>-16</th>\n",
              "      <th>...</th>\n",
              "      <th>0.0.38</th>\n",
              "      <th>9.0</th>\n",
              "      <th>-0.9</th>\n",
              "      <th>0.0.39</th>\n",
              "      <th>0.0.40</th>\n",
              "      <th>0.9.3</th>\n",
              "      <th>2.9.1</th>\n",
              "      <th>23.3</th>\n",
              "      <th>49.4</th>\n",
              "      <th>8</th>\n",
              "    </tr>\n",
              "  </thead>\n",
              "  <tbody>\n",
              "    <tr>\n",
              "      <th>0</th>\n",
              "      <td>56</td>\n",
              "      <td>1</td>\n",
              "      <td>165</td>\n",
              "      <td>64</td>\n",
              "      <td>81</td>\n",
              "      <td>174</td>\n",
              "      <td>401</td>\n",
              "      <td>149</td>\n",
              "      <td>39</td>\n",
              "      <td>25</td>\n",
              "      <td>...</td>\n",
              "      <td>0.0</td>\n",
              "      <td>8.5</td>\n",
              "      <td>0.0</td>\n",
              "      <td>0.0</td>\n",
              "      <td>0.0</td>\n",
              "      <td>0.2</td>\n",
              "      <td>2.1</td>\n",
              "      <td>20.4</td>\n",
              "      <td>38.8</td>\n",
              "      <td>6</td>\n",
              "    </tr>\n",
              "    <tr>\n",
              "      <th>1</th>\n",
              "      <td>54</td>\n",
              "      <td>0</td>\n",
              "      <td>172</td>\n",
              "      <td>95</td>\n",
              "      <td>138</td>\n",
              "      <td>163</td>\n",
              "      <td>386</td>\n",
              "      <td>185</td>\n",
              "      <td>102</td>\n",
              "      <td>96</td>\n",
              "      <td>...</td>\n",
              "      <td>0.0</td>\n",
              "      <td>9.5</td>\n",
              "      <td>-2.4</td>\n",
              "      <td>0.0</td>\n",
              "      <td>0.0</td>\n",
              "      <td>0.3</td>\n",
              "      <td>3.4</td>\n",
              "      <td>12.3</td>\n",
              "      <td>49.0</td>\n",
              "      <td>10</td>\n",
              "    </tr>\n",
              "    <tr>\n",
              "      <th>2</th>\n",
              "      <td>55</td>\n",
              "      <td>0</td>\n",
              "      <td>175</td>\n",
              "      <td>94</td>\n",
              "      <td>100</td>\n",
              "      <td>202</td>\n",
              "      <td>380</td>\n",
              "      <td>179</td>\n",
              "      <td>143</td>\n",
              "      <td>28</td>\n",
              "      <td>...</td>\n",
              "      <td>0.0</td>\n",
              "      <td>12.2</td>\n",
              "      <td>-2.2</td>\n",
              "      <td>0.0</td>\n",
              "      <td>0.0</td>\n",
              "      <td>0.4</td>\n",
              "      <td>2.6</td>\n",
              "      <td>34.6</td>\n",
              "      <td>61.6</td>\n",
              "      <td>1</td>\n",
              "    </tr>\n",
              "    <tr>\n",
              "      <th>3</th>\n",
              "      <td>75</td>\n",
              "      <td>0</td>\n",
              "      <td>190</td>\n",
              "      <td>80</td>\n",
              "      <td>88</td>\n",
              "      <td>181</td>\n",
              "      <td>360</td>\n",
              "      <td>177</td>\n",
              "      <td>103</td>\n",
              "      <td>-16</td>\n",
              "      <td>...</td>\n",
              "      <td>0.0</td>\n",
              "      <td>13.1</td>\n",
              "      <td>-3.6</td>\n",
              "      <td>0.0</td>\n",
              "      <td>0.0</td>\n",
              "      <td>-0.1</td>\n",
              "      <td>3.9</td>\n",
              "      <td>25.4</td>\n",
              "      <td>62.8</td>\n",
              "      <td>7</td>\n",
              "    </tr>\n",
              "    <tr>\n",
              "      <th>4</th>\n",
              "      <td>13</td>\n",
              "      <td>0</td>\n",
              "      <td>169</td>\n",
              "      <td>51</td>\n",
              "      <td>100</td>\n",
              "      <td>167</td>\n",
              "      <td>321</td>\n",
              "      <td>174</td>\n",
              "      <td>91</td>\n",
              "      <td>107</td>\n",
              "      <td>...</td>\n",
              "      <td>-0.6</td>\n",
              "      <td>12.2</td>\n",
              "      <td>-2.8</td>\n",
              "      <td>0.0</td>\n",
              "      <td>0.0</td>\n",
              "      <td>0.9</td>\n",
              "      <td>2.2</td>\n",
              "      <td>13.5</td>\n",
              "      <td>31.1</td>\n",
              "      <td>14</td>\n",
              "    </tr>\n",
              "  </tbody>\n",
              "</table>\n",
              "<p>5 rows × 280 columns</p>\n",
              "</div>\n",
              "      <button class=\"colab-df-convert\" onclick=\"convertToInteractive('df-63ea2c89-0200-4493-851a-2b0548fb7819')\"\n",
              "              title=\"Convert this dataframe to an interactive table.\"\n",
              "              style=\"display:none;\">\n",
              "        \n",
              "  <svg xmlns=\"http://www.w3.org/2000/svg\" height=\"24px\"viewBox=\"0 0 24 24\"\n",
              "       width=\"24px\">\n",
              "    <path d=\"M0 0h24v24H0V0z\" fill=\"none\"/>\n",
              "    <path d=\"M18.56 5.44l.94 2.06.94-2.06 2.06-.94-2.06-.94-.94-2.06-.94 2.06-2.06.94zm-11 1L8.5 8.5l.94-2.06 2.06-.94-2.06-.94L8.5 2.5l-.94 2.06-2.06.94zm10 10l.94 2.06.94-2.06 2.06-.94-2.06-.94-.94-2.06-.94 2.06-2.06.94z\"/><path d=\"M17.41 7.96l-1.37-1.37c-.4-.4-.92-.59-1.43-.59-.52 0-1.04.2-1.43.59L10.3 9.45l-7.72 7.72c-.78.78-.78 2.05 0 2.83L4 21.41c.39.39.9.59 1.41.59.51 0 1.02-.2 1.41-.59l7.78-7.78 2.81-2.81c.8-.78.8-2.07 0-2.86zM5.41 20L4 18.59l7.72-7.72 1.47 1.35L5.41 20z\"/>\n",
              "  </svg>\n",
              "      </button>\n",
              "      \n",
              "  <style>\n",
              "    .colab-df-container {\n",
              "      display:flex;\n",
              "      flex-wrap:wrap;\n",
              "      gap: 12px;\n",
              "    }\n",
              "\n",
              "    .colab-df-convert {\n",
              "      background-color: #E8F0FE;\n",
              "      border: none;\n",
              "      border-radius: 50%;\n",
              "      cursor: pointer;\n",
              "      display: none;\n",
              "      fill: #1967D2;\n",
              "      height: 32px;\n",
              "      padding: 0 0 0 0;\n",
              "      width: 32px;\n",
              "    }\n",
              "\n",
              "    .colab-df-convert:hover {\n",
              "      background-color: #E2EBFA;\n",
              "      box-shadow: 0px 1px 2px rgba(60, 64, 67, 0.3), 0px 1px 3px 1px rgba(60, 64, 67, 0.15);\n",
              "      fill: #174EA6;\n",
              "    }\n",
              "\n",
              "    [theme=dark] .colab-df-convert {\n",
              "      background-color: #3B4455;\n",
              "      fill: #D2E3FC;\n",
              "    }\n",
              "\n",
              "    [theme=dark] .colab-df-convert:hover {\n",
              "      background-color: #434B5C;\n",
              "      box-shadow: 0px 1px 3px 1px rgba(0, 0, 0, 0.15);\n",
              "      filter: drop-shadow(0px 1px 2px rgba(0, 0, 0, 0.3));\n",
              "      fill: #FFFFFF;\n",
              "    }\n",
              "  </style>\n",
              "\n",
              "      <script>\n",
              "        const buttonEl =\n",
              "          document.querySelector('#df-63ea2c89-0200-4493-851a-2b0548fb7819 button.colab-df-convert');\n",
              "        buttonEl.style.display =\n",
              "          google.colab.kernel.accessAllowed ? 'block' : 'none';\n",
              "\n",
              "        async function convertToInteractive(key) {\n",
              "          const element = document.querySelector('#df-63ea2c89-0200-4493-851a-2b0548fb7819');\n",
              "          const dataTable =\n",
              "            await google.colab.kernel.invokeFunction('convertToInteractive',\n",
              "                                                     [key], {});\n",
              "          if (!dataTable) return;\n",
              "\n",
              "          const docLinkHtml = 'Like what you see? Visit the ' +\n",
              "            '<a target=\"_blank\" href=https://colab.research.google.com/notebooks/data_table.ipynb>data table notebook</a>'\n",
              "            + ' to learn more about interactive tables.';\n",
              "          element.innerHTML = '';\n",
              "          dataTable['output_type'] = 'display_data';\n",
              "          await google.colab.output.renderOutput(dataTable, element);\n",
              "          const docLink = document.createElement('div');\n",
              "          docLink.innerHTML = docLinkHtml;\n",
              "          element.appendChild(docLink);\n",
              "        }\n",
              "      </script>\n",
              "    </div>\n",
              "  </div>\n",
              "  "
            ]
          },
          "metadata": {},
          "execution_count": 158
        }
      ]
    },
    {
      "cell_type": "code",
      "source": [
        "df.info()"
      ],
      "metadata": {
        "colab": {
          "base_uri": "https://localhost:8080/"
        },
        "id": "YrnnUJO3kwh4",
        "outputId": "515caf46-f873-44b4-f272-74d9b3703663"
      },
      "execution_count": 159,
      "outputs": [
        {
          "output_type": "stream",
          "name": "stdout",
          "text": [
            "<class 'pandas.core.frame.DataFrame'>\n",
            "RangeIndex: 451 entries, 0 to 450\n",
            "Columns: 280 entries, 75 to 8\n",
            "dtypes: float64(120), int64(155), object(5)\n",
            "memory usage: 986.7+ KB\n"
          ]
        }
      ]
    },
    {
      "cell_type": "code",
      "source": [
        "df.isna().sum()"
      ],
      "metadata": {
        "colab": {
          "base_uri": "https://localhost:8080/"
        },
        "id": "uQY66e3Mk7vh",
        "outputId": "256e9c5f-2457-482d-b2ce-bca52e2509bf"
      },
      "execution_count": 160,
      "outputs": [
        {
          "output_type": "execute_result",
          "data": {
            "text/plain": [
              "75       0\n",
              "0        0\n",
              "190      0\n",
              "80       0\n",
              "91       0\n",
              "        ..\n",
              "0.9.3    0\n",
              "2.9.1    0\n",
              "23.3     0\n",
              "49.4     0\n",
              "8        0\n",
              "Length: 280, dtype: int64"
            ]
          },
          "metadata": {},
          "execution_count": 160
        }
      ]
    },
    {
      "cell_type": "code",
      "source": [
        "dataset = df.iloc[:, 1].values\n",
        "plt.plot(dataset)\n",
        "plt.xlabel('Nama')\n",
        "plt.ylabel('Jumlah')\n",
        "plt.title('Arrhythmia Classification')\n",
        "plt.show()"
      ],
      "metadata": {
        "colab": {
          "base_uri": "https://localhost:8080/",
          "height": 295
        },
        "id": "7b-F7TOnVbjj",
        "outputId": "c374353d-3e9a-42d9-9762-0bacb327fbfd"
      },
      "execution_count": 161,
      "outputs": [
        {
          "output_type": "display_data",
          "data": {
            "text/plain": [
              "<Figure size 432x288 with 1 Axes>"
            ],
            "image/png": "[encoded data removed]"
          },
          "metadata": {
            "needs_background": "light"
          }
        }
      ]
    },
    {
      "cell_type": "code",
      "source": [
        "dataset = dataset.reshape(-1,1)\n",
        "dataset = dataset.astype('float32')\n",
        "dataset.shape"
      ],
      "metadata": {
        "colab": {
          "base_uri": "https://localhost:8080/"
        },
        "id": "42Ul2sLIYwQv",
        "outputId": "f1780f95-2c10-4506-bcfd-7b6df6929589"
      },
      "execution_count": 162,
      "outputs": [
        {
          "output_type": "execute_result",
          "data": {
            "text/plain": [
              "(451, 1)"
            ]
          },
          "metadata": {},
          "execution_count": 162
        }
      ]
    },
    {
      "cell_type": "code",
      "source": [
        "from sklearn.preprocessing import MinMaxScaler"
      ],
      "metadata": {
        "id": "P-uWtmvLZBNQ"
      },
      "execution_count": 163,
      "outputs": []
    },
    {
      "cell_type": "code",
      "source": [
        "scaler = MinMaxScaler(feature_range= (0,1))\n",
        "dataset = scaler.fit_transform(dataset)"
      ],
      "metadata": {
        "id": "6NXJ9pPdZIBg"
      },
      "execution_count": 164,
      "outputs": []
    },
    {
      "cell_type": "code",
      "source": [
        "train_size = int(len(dataset)*0.5)\n",
        "test_size = len(dataset)- train_size\n",
        "\n",
        "train = dataset[0:train_size, :]\n",
        "test = dataset[train_size:len(dataset), :]\n",
        "\n",
        "print('train size: {}, test size: {}'.format(len(train), len(test)))"
      ],
      "metadata": {
        "colab": {
          "base_uri": "https://localhost:8080/"
        },
        "id": "Yrmq8tcoZOUm",
        "outputId": "529ed735-bc54-4a42-b771-94abe853d7bf"
      },
      "execution_count": 165,
      "outputs": [
        {
          "output_type": "stream",
          "name": "stdout",
          "text": [
            "train size: 225, test size: 226\n"
          ]
        }
      ]
    },
    {
      "cell_type": "code",
      "source": [
        "data_x = []\n",
        "data_y = []\n",
        "timestemp = 10\n",
        "\n",
        "for i in range(len(train)- timestemp -1):\n",
        "    a = train[i:(i+timestemp), 0]\n",
        "    data_x.append(a)\n",
        "    data_y.append(train[i + timestemp, 0])\n",
        "\n",
        "    \n",
        "x_train, y_train = np.array(data_x), np.array(data_y)"
      ],
      "metadata": {
        "id": "5f5e5feEZ-fY"
      },
      "execution_count": 166,
      "outputs": []
    },
    {
      "cell_type": "code",
      "source": [
        "data_x = []\n",
        "data_y = []\n",
        "for i in range(len(test)- timestemp -1):\n",
        "    a = test[i:(i+timestemp), 0]\n",
        "    data_x.append(a)\n",
        "    data_y.append(test[i + timestemp, 0])\n",
        "\n",
        "    \n",
        "x_test, y_test = np.array(data_x), np.array(data_y)"
      ],
      "metadata": {
        "id": "C7ztYy_1aP62"
      },
      "execution_count": 167,
      "outputs": []
    },
    {
      "cell_type": "code",
      "source": [
        "x_train.shape"
      ],
      "metadata": {
        "colab": {
          "base_uri": "https://localhost:8080/"
        },
        "id": "VMWHFmJ5ajOG",
        "outputId": "bb5c49bc-0379-4a7b-b718-18056d93af88"
      },
      "execution_count": 168,
      "outputs": [
        {
          "output_type": "execute_result",
          "data": {
            "text/plain": [
              "(214, 10)"
            ]
          },
          "metadata": {},
          "execution_count": 168
        }
      ]
    },
    {
      "cell_type": "code",
      "source": [
        "x_train = np.reshape(x_train, (x_train.shape[0],1,  x_train.shape[1]))\n",
        "x_test = np.reshape(x_test, (x_test.shape[0],1,  x_test.shape[1]))"
      ],
      "metadata": {
        "id": "Ite-rN3Pam7K"
      },
      "execution_count": 169,
      "outputs": []
    },
    {
      "cell_type": "code",
      "source": [
        "x_train.shape"
      ],
      "metadata": {
        "colab": {
          "base_uri": "https://localhost:8080/"
        },
        "id": "RcvmbgB9aunD",
        "outputId": "cd649377-d6bf-4c93-b99d-1843e62b938e"
      },
      "execution_count": 170,
      "outputs": [
        {
          "output_type": "execute_result",
          "data": {
            "text/plain": [
              "(214, 1, 10)"
            ]
          },
          "metadata": {},
          "execution_count": 170
        }
      ]
    },
    {
      "cell_type": "code",
      "source": [
        "x_test.shape"
      ],
      "metadata": {
        "colab": {
          "base_uri": "https://localhost:8080/"
        },
        "id": "QMX9an25eDfT",
        "outputId": "784fb527-8382-43c0-fc73-22300ed69c80"
      },
      "execution_count": 171,
      "outputs": [
        {
          "output_type": "execute_result",
          "data": {
            "text/plain": [
              "(215, 1, 10)"
            ]
          },
          "metadata": {},
          "execution_count": 171
        }
      ]
    },
    {
      "cell_type": "markdown",
      "source": [
        "Create LSTM Model"
      ],
      "metadata": {
        "id": "KG4WCpKoazJ5"
      }
    },
    {
      "cell_type": "code",
      "source": [
        "from keras.models import Sequential\n",
        "from keras.layers import Dense\n",
        "from keras.layers import LSTM\n",
        "from sklearn.metrics import mean_squared_error"
      ],
      "metadata": {
        "id": "207svqgra19-"
      },
      "execution_count": 172,
      "outputs": []
    },
    {
      "cell_type": "code",
      "source": [
        "# model -> rnn\n",
        "rnn = Sequential()\n",
        "rnn.add(LSTM(10, input_shape=(1, timestemp))) # 10 lstm neuron(block)\n",
        "rnn.add(Dense(1))\n",
        "rnn.compile(loss='mean_squared_error', optimizer='adam', metrics=['accuracy'])\n",
        "rnn.fit(x_train, y_train, epochs=100, batch_size=1)"
      ],
      "metadata": {
        "colab": {
          "base_uri": "https://localhost:8080/"
        },
        "id": "AmjNbT0ba-eV",
        "outputId": "2d9660a3-ba40-493b-c1ac-de52b4bbc40e"
      },
      "execution_count": 174,
      "outputs": [
        {
          "output_type": "stream",
          "name": "stdout",
          "text": [
            "Epoch 1/100\n",
            "214/214 [==============================] - 3s 2ms/step - loss: 0.3847 - accuracy: 0.4252\n",
            "Epoch 2/100\n",
            "214/214 [==============================] - 0s 2ms/step - loss: 0.2449 - accuracy: 0.5514\n",
            "Epoch 3/100\n",
            "214/214 [==============================] - 0s 2ms/step - loss: 0.2413 - accuracy: 0.5701\n",
            "Epoch 4/100\n",
            "214/214 [==============================] - 0s 2ms/step - loss: 0.2394 - accuracy: 0.5701\n",
            "Epoch 5/100\n",
            "214/214 [==============================] - 0s 2ms/step - loss: 0.2366 - accuracy: 0.6028\n",
            "Epoch 6/100\n",
            "214/214 [==============================] - 0s 2ms/step - loss: 0.2352 - accuracy: 0.6075\n",
            "Epoch 7/100\n",
            "214/214 [==============================] - 0s 2ms/step - loss: 0.2339 - accuracy: 0.6121\n",
            "Epoch 8/100\n",
            "214/214 [==============================] - 0s 2ms/step - loss: 0.2341 - accuracy: 0.6121\n",
            "Epoch 9/100\n",
            "214/214 [==============================] - 1s 5ms/step - loss: 0.2301 - accuracy: 0.6355\n",
            "Epoch 10/100\n",
            "214/214 [==============================] - 1s 3ms/step - loss: 0.2319 - accuracy: 0.6402\n",
            "Epoch 11/100\n",
            "214/214 [==============================] - 0s 2ms/step - loss: 0.2303 - accuracy: 0.6308\n",
            "Epoch 12/100\n",
            "214/214 [==============================] - 0s 2ms/step - loss: 0.2293 - accuracy: 0.6402\n",
            "Epoch 13/100\n",
            "214/214 [==============================] - 0s 2ms/step - loss: 0.2255 - accuracy: 0.6308\n",
            "Epoch 14/100\n",
            "214/214 [==============================] - 0s 2ms/step - loss: 0.2269 - accuracy: 0.6589\n",
            "Epoch 15/100\n",
            "214/214 [==============================] - 0s 2ms/step - loss: 0.2255 - accuracy: 0.6402\n",
            "Epoch 16/100\n",
            "214/214 [==============================] - 0s 2ms/step - loss: 0.2278 - accuracy: 0.6402\n",
            "Epoch 17/100\n",
            "214/214 [==============================] - 0s 2ms/step - loss: 0.2252 - accuracy: 0.6542\n",
            "Epoch 18/100\n",
            "214/214 [==============================] - 0s 2ms/step - loss: 0.2272 - accuracy: 0.6542\n",
            "Epoch 19/100\n",
            "214/214 [==============================] - 0s 2ms/step - loss: 0.2258 - accuracy: 0.6495\n",
            "Epoch 20/100\n",
            "214/214 [==============================] - 0s 2ms/step - loss: 0.2252 - accuracy: 0.6495\n",
            "Epoch 21/100\n",
            "214/214 [==============================] - 0s 2ms/step - loss: 0.2245 - accuracy: 0.6589\n",
            "Epoch 22/100\n",
            "214/214 [==============================] - 0s 2ms/step - loss: 0.2234 - accuracy: 0.6589\n",
            "Epoch 23/100\n",
            "214/214 [==============================] - 0s 2ms/step - loss: 0.2238 - accuracy: 0.6542\n",
            "Epoch 24/100\n",
            "214/214 [==============================] - 0s 2ms/step - loss: 0.2234 - accuracy: 0.6682\n",
            "Epoch 25/100\n",
            "214/214 [==============================] - 0s 2ms/step - loss: 0.2237 - accuracy: 0.6729\n",
            "Epoch 26/100\n",
            "214/214 [==============================] - 0s 2ms/step - loss: 0.2214 - accuracy: 0.6682\n",
            "Epoch 27/100\n",
            "214/214 [==============================] - 0s 2ms/step - loss: 0.2225 - accuracy: 0.6636\n",
            "Epoch 28/100\n",
            "214/214 [==============================] - 0s 2ms/step - loss: 0.2214 - accuracy: 0.6682\n",
            "Epoch 29/100\n",
            "214/214 [==============================] - 0s 2ms/step - loss: 0.2211 - accuracy: 0.6589\n",
            "Epoch 30/100\n",
            "214/214 [==============================] - 0s 2ms/step - loss: 0.2214 - accuracy: 0.6682\n",
            "Epoch 31/100\n",
            "214/214 [==============================] - 0s 2ms/step - loss: 0.2217 - accuracy: 0.6682\n",
            "Epoch 32/100\n",
            "214/214 [==============================] - 0s 2ms/step - loss: 0.2207 - accuracy: 0.6776\n",
            "Epoch 33/100\n",
            "214/214 [==============================] - 0s 2ms/step - loss: 0.2197 - accuracy: 0.6542\n",
            "Epoch 34/100\n",
            "214/214 [==============================] - 0s 2ms/step - loss: 0.2178 - accuracy: 0.6822\n",
            "Epoch 35/100\n",
            "214/214 [==============================] - 0s 2ms/step - loss: 0.2180 - accuracy: 0.6776\n",
            "Epoch 36/100\n",
            "214/214 [==============================] - 0s 2ms/step - loss: 0.2175 - accuracy: 0.6822\n",
            "Epoch 37/100\n",
            "214/214 [==============================] - 0s 2ms/step - loss: 0.2159 - accuracy: 0.6869\n",
            "Epoch 38/100\n",
            "214/214 [==============================] - 0s 2ms/step - loss: 0.2157 - accuracy: 0.6869\n",
            "Epoch 39/100\n",
            "214/214 [==============================] - 0s 2ms/step - loss: 0.2164 - accuracy: 0.6776\n",
            "Epoch 40/100\n",
            "214/214 [==============================] - 0s 2ms/step - loss: 0.2152 - accuracy: 0.6776\n",
            "Epoch 41/100\n",
            "214/214 [==============================] - 0s 2ms/step - loss: 0.2137 - accuracy: 0.6869\n",
            "Epoch 42/100\n",
            "214/214 [==============================] - 0s 2ms/step - loss: 0.2145 - accuracy: 0.6729\n",
            "Epoch 43/100\n",
            "214/214 [==============================] - 0s 2ms/step - loss: 0.2143 - accuracy: 0.6776\n",
            "Epoch 44/100\n",
            "214/214 [==============================] - 0s 2ms/step - loss: 0.2144 - accuracy: 0.6776\n",
            "Epoch 45/100\n",
            "214/214 [==============================] - 0s 2ms/step - loss: 0.2118 - accuracy: 0.6776\n",
            "Epoch 46/100\n",
            "214/214 [==============================] - 0s 2ms/step - loss: 0.2120 - accuracy: 0.6822\n",
            "Epoch 47/100\n",
            "214/214 [==============================] - 0s 2ms/step - loss: 0.2109 - accuracy: 0.6776\n",
            "Epoch 48/100\n",
            "214/214 [==============================] - 0s 2ms/step - loss: 0.2102 - accuracy: 0.6822\n",
            "Epoch 49/100\n",
            "214/214 [==============================] - 0s 2ms/step - loss: 0.2109 - accuracy: 0.6869\n",
            "Epoch 50/100\n",
            "214/214 [==============================] - 0s 2ms/step - loss: 0.2094 - accuracy: 0.7056\n",
            "Epoch 51/100\n",
            "214/214 [==============================] - 0s 2ms/step - loss: 0.2090 - accuracy: 0.6916\n",
            "Epoch 52/100\n",
            "214/214 [==============================] - 0s 2ms/step - loss: 0.2092 - accuracy: 0.6822\n",
            "Epoch 53/100\n",
            "214/214 [==============================] - 0s 2ms/step - loss: 0.2082 - accuracy: 0.6776\n",
            "Epoch 54/100\n",
            "214/214 [==============================] - 0s 2ms/step - loss: 0.2074 - accuracy: 0.7009\n",
            "Epoch 55/100\n",
            "214/214 [==============================] - 0s 2ms/step - loss: 0.2071 - accuracy: 0.6869\n",
            "Epoch 56/100\n",
            "214/214 [==============================] - 0s 2ms/step - loss: 0.2063 - accuracy: 0.6869\n",
            "Epoch 57/100\n",
            "214/214 [==============================] - 0s 2ms/step - loss: 0.2046 - accuracy: 0.6916\n",
            "Epoch 58/100\n",
            "214/214 [==============================] - 0s 2ms/step - loss: 0.2043 - accuracy: 0.6776\n",
            "Epoch 59/100\n",
            "214/214 [==============================] - 0s 2ms/step - loss: 0.2045 - accuracy: 0.7009\n",
            "Epoch 60/100\n",
            "214/214 [==============================] - 0s 2ms/step - loss: 0.2040 - accuracy: 0.7009\n",
            "Epoch 61/100\n",
            "214/214 [==============================] - 0s 2ms/step - loss: 0.2025 - accuracy: 0.6916\n",
            "Epoch 62/100\n",
            "214/214 [==============================] - 0s 2ms/step - loss: 0.2003 - accuracy: 0.7103\n",
            "Epoch 63/100\n",
            "214/214 [==============================] - 0s 2ms/step - loss: 0.2023 - accuracy: 0.6963\n",
            "Epoch 64/100\n",
            "214/214 [==============================] - 0s 2ms/step - loss: 0.2030 - accuracy: 0.7009\n",
            "Epoch 65/100\n",
            "214/214 [==============================] - 0s 2ms/step - loss: 0.2017 - accuracy: 0.6963\n",
            "Epoch 66/100\n",
            "214/214 [==============================] - 0s 2ms/step - loss: 0.2018 - accuracy: 0.7009\n",
            "Epoch 67/100\n",
            "214/214 [==============================] - 0s 2ms/step - loss: 0.1996 - accuracy: 0.7009\n",
            "Epoch 68/100\n",
            "214/214 [==============================] - 0s 2ms/step - loss: 0.1995 - accuracy: 0.7150\n",
            "Epoch 69/100\n",
            "214/214 [==============================] - 0s 2ms/step - loss: 0.2007 - accuracy: 0.7056\n",
            "Epoch 70/100\n",
            "214/214 [==============================] - 0s 2ms/step - loss: 0.1982 - accuracy: 0.7150\n",
            "Epoch 71/100\n",
            "214/214 [==============================] - 0s 2ms/step - loss: 0.1980 - accuracy: 0.7150\n",
            "Epoch 72/100\n",
            "214/214 [==============================] - 0s 2ms/step - loss: 0.1977 - accuracy: 0.7150\n",
            "Epoch 73/100\n",
            "214/214 [==============================] - 0s 2ms/step - loss: 0.1962 - accuracy: 0.7243\n",
            "Epoch 74/100\n",
            "214/214 [==============================] - 0s 2ms/step - loss: 0.1960 - accuracy: 0.7243\n",
            "Epoch 75/100\n",
            "214/214 [==============================] - 0s 2ms/step - loss: 0.1954 - accuracy: 0.7056\n",
            "Epoch 76/100\n",
            "214/214 [==============================] - 0s 2ms/step - loss: 0.1932 - accuracy: 0.7290\n",
            "Epoch 77/100\n",
            "214/214 [==============================] - 0s 2ms/step - loss: 0.1944 - accuracy: 0.6869\n",
            "Epoch 78/100\n",
            "214/214 [==============================] - 0s 2ms/step - loss: 0.1938 - accuracy: 0.7290\n",
            "Epoch 79/100\n",
            "214/214 [==============================] - 0s 2ms/step - loss: 0.1931 - accuracy: 0.7243\n",
            "Epoch 80/100\n",
            "214/214 [==============================] - 0s 2ms/step - loss: 0.1923 - accuracy: 0.7383\n",
            "Epoch 81/100\n",
            "214/214 [==============================] - 0s 2ms/step - loss: 0.1912 - accuracy: 0.7243\n",
            "Epoch 82/100\n",
            "214/214 [==============================] - 0s 2ms/step - loss: 0.1919 - accuracy: 0.7243\n",
            "Epoch 83/100\n",
            "214/214 [==============================] - 0s 2ms/step - loss: 0.1912 - accuracy: 0.7383\n",
            "Epoch 84/100\n",
            "214/214 [==============================] - 0s 2ms/step - loss: 0.1899 - accuracy: 0.7290\n",
            "Epoch 85/100\n",
            "214/214 [==============================] - 0s 2ms/step - loss: 0.1910 - accuracy: 0.7336\n",
            "Epoch 86/100\n",
            "214/214 [==============================] - 0s 2ms/step - loss: 0.1910 - accuracy: 0.7150\n",
            "Epoch 87/100\n",
            "214/214 [==============================] - 0s 2ms/step - loss: 0.1900 - accuracy: 0.7290\n",
            "Epoch 88/100\n",
            "214/214 [==============================] - 0s 2ms/step - loss: 0.1872 - accuracy: 0.7383\n",
            "Epoch 89/100\n",
            "214/214 [==============================] - 0s 2ms/step - loss: 0.1885 - accuracy: 0.7336\n",
            "Epoch 90/100\n",
            "214/214 [==============================] - 0s 2ms/step - loss: 0.1873 - accuracy: 0.7336\n",
            "Epoch 91/100\n",
            "214/214 [==============================] - 0s 2ms/step - loss: 0.1873 - accuracy: 0.7523\n",
            "Epoch 92/100\n",
            "214/214 [==============================] - 0s 2ms/step - loss: 0.1868 - accuracy: 0.7290\n",
            "Epoch 93/100\n",
            "214/214 [==============================] - 0s 2ms/step - loss: 0.1857 - accuracy: 0.7617\n",
            "Epoch 94/100\n",
            "214/214 [==============================] - 0s 2ms/step - loss: 0.1852 - accuracy: 0.7477\n",
            "Epoch 95/100\n",
            "214/214 [==============================] - 0s 2ms/step - loss: 0.1858 - accuracy: 0.7336\n",
            "Epoch 96/100\n",
            "214/214 [==============================] - 0s 2ms/step - loss: 0.1857 - accuracy: 0.7617\n",
            "Epoch 97/100\n",
            "214/214 [==============================] - 0s 2ms/step - loss: 0.1848 - accuracy: 0.7290\n",
            "Epoch 98/100\n",
            "214/214 [==============================] - 0s 2ms/step - loss: 0.1844 - accuracy: 0.7383\n",
            "Epoch 99/100\n",
            "214/214 [==============================] - 0s 2ms/step - loss: 0.1820 - accuracy: 0.7664\n",
            "Epoch 100/100\n",
            "214/214 [==============================] - 0s 2ms/step - loss: 0.1822 - accuracy: 0.7290\n"
          ]
        },
        {
          "output_type": "execute_result",
          "data": {
            "text/plain": [
              "<keras.callbacks.History at 0x7f890c574c90>"
            ]
          },
          "metadata": {},
          "execution_count": 174
        }
      ]
    },
    {
      "cell_type": "code",
      "source": [
        "rnn.summary()"
      ],
      "metadata": {
        "colab": {
          "base_uri": "https://localhost:8080/"
        },
        "id": "0ptb9WsBh8eJ",
        "outputId": "39ca8464-2d96-4cb0-97f9-572ab691e00d"
      },
      "execution_count": 175,
      "outputs": [
        {
          "output_type": "stream",
          "name": "stdout",
          "text": [
            "Model: \"sequential_21\"\n",
            "_________________________________________________________________\n",
            " Layer (type)                Output Shape              Param #   \n",
            "=================================================================\n",
            " lstm_21 (LSTM)              (None, 10)                840       \n",
            "                                                                 \n",
            " dense_21 (Dense)            (None, 1)                 11        \n",
            "                                                                 \n",
            "=================================================================\n",
            "Total params: 851\n",
            "Trainable params: 851\n",
            "Non-trainable params: 0\n",
            "_________________________________________________________________\n"
          ]
        }
      ]
    },
    {
      "cell_type": "markdown",
      "source": [
        "Prediction"
      ],
      "metadata": {
        "id": "fmFbM8kwbNPk"
      }
    },
    {
      "cell_type": "code",
      "source": [
        "#make predictions\n",
        "train_predict = rnn.predict(x_train)\n",
        "test_predict = rnn.predict(x_test)\n",
        "\n",
        "# invert predictions\n",
        "train_predict = scaler.inverse_transform(train_predict)\n",
        "y_train = scaler.inverse_transform([y_train])\n",
        "test_predict = scaler.inverse_transform(test_predict)\n",
        "y_test = scaler.inverse_transform([y_test])\n",
        "\n",
        "import math\n",
        "# calculate root mean squared error\n",
        "trainScore = math.sqrt(mean_squared_error(y_train[0], train_predict[:,0]))\n",
        "print('Train Score: %.2f RMSE' % (trainScore))\n",
        "testScore = math.sqrt(mean_squared_error(y_test[0], test_predict[:,0]))\n",
        "print('Test Score: %.2f RMSE' % (testScore))"
      ],
      "metadata": {
        "colab": {
          "base_uri": "https://localhost:8080/"
        },
        "id": "OTfDvSPebOyi",
        "outputId": "c2748ce3-6e59-47ad-fc02-21572144943e"
      },
      "execution_count": 176,
      "outputs": [
        {
          "output_type": "stream",
          "name": "stdout",
          "text": [
            "7/7 [==============================] - 0s 2ms/step\n",
            "7/7 [==============================] - 0s 2ms/step\n",
            "Train Score: 0.42 RMSE\n",
            "Test Score: 0.61 RMSE\n"
          ]
        }
      ]
    },
    {
      "cell_type": "code",
      "source": [
        "# shifting train\n",
        "train_predictPlot = np.empty_like(dataset)\n",
        "train_predictPlot[:, :] = np.nan\n",
        "train_predictPlot[timestemp:len(train_predict)+timestemp, :] = train_predict\n",
        "\n",
        "# shifting test predictions for plotting\n",
        "test_predictPlot = np.empty_like(dataset)\n",
        "test_predictPlot[:, :] = np.nan\n",
        "test_predictPlot[len(train_predict)+(timestemp*2)+1:len(dataset)-1, :] = test_predict\n",
        "\n",
        "# plot baseline and predictions\n",
        "plt.plot(scaler.inverse_transform(dataset))\n",
        "plt.plot(train_predictPlot)\n",
        "plt.plot(test_predictPlot)\n",
        "plt.show()"
      ],
      "metadata": {
        "colab": {
          "base_uri": "https://localhost:8080/",
          "height": 265
        },
        "id": "pKj6LHdmfy-H",
        "outputId": "4e82ea9d-3000-432e-fdd3-592fb300173c"
      },
      "execution_count": 177,
      "outputs": [
        {
          "output_type": "display_data",
          "data": {
            "text/plain": [
              "<Figure size 432x288 with 1 Axes>"
            ],
            "image/png": "[encoded data removed]"
          },
          "metadata": {
            "needs_background": "light"
          }
        }
      ]
    }
  ]
}